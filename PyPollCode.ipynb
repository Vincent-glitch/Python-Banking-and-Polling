{
 "cells": [
  {
   "cell_type": "code",
   "execution_count": 1,
   "metadata": {},
   "outputs": [],
   "source": [
    "import os\n",
    "import operator\n",
    "import csv\n",
    "import math\n",
    "from collections import Counter\n",
    "Voter = []\n",
    "County = []\n",
    "Candidate = [] "
   ]
  },
  {
   "cell_type": "code",
   "execution_count": 2,
   "metadata": {},
   "outputs": [],
   "source": [
    "csvpath = os.path.join(\"PyPoll\", \"Resources\",\"election_data.csv\")"
   ]
  },
  {
   "cell_type": "code",
   "execution_count": 3,
   "metadata": {},
   "outputs": [],
   "source": [
    "with open(csvpath) as FData:\n",
    "    csvreader = csv.reader(FData)\n",
    "    \n",
    "    \n",
    "    #print(csvreader)\n",
    "      \n",
    "    csv_header = next(csvreader)\n",
    "    #print(csv_header)\n",
    "    counter = 0\n",
    "    for row in csvreader:\n",
    "        #print(row)\n",
    "        counter = counter + 1\n",
    "        Voter.append(row[0]) \n",
    "        County.append(row[1])\n",
    "        Candidate.append(row[2])"
   ]
  },
  {
   "cell_type": "code",
   "execution_count": 4,
   "metadata": {},
   "outputs": [],
   "source": [
    "Total_Votes = len(Voter)"
   ]
  },
  {
   "cell_type": "code",
   "execution_count": 5,
   "metadata": {},
   "outputs": [],
   "source": [
    "#Probably the most badass function you could find for something like this, look at how clean the output is\n",
    "names_votes = [(i,Candidate.count(i)) for i in set(Candidate)]"
   ]
  },
  {
   "cell_type": "code",
   "execution_count": 6,
   "metadata": {},
   "outputs": [
    {
     "data": {
      "text/plain": [
       "['Correy', \"O'Tooley\", 'Li', 'Khan']"
      ]
     },
     "execution_count": 6,
     "metadata": {},
     "output_type": "execute_result"
    }
   ],
   "source": [
    "names = [] \n",
    "\n",
    "for name in names_votes:\n",
    "#     print(name[0])\n",
    "    names.append(name[0])\n",
    "names"
   ]
  },
  {
   "cell_type": "code",
   "execution_count": 8,
   "metadata": {},
   "outputs": [],
   "source": [
    "#list_comprehension =  [each_item[\"element that I want\"] for each_item in another_list]\n",
    "names = [names[0] for names in names_votes]"
   ]
  },
  {
   "cell_type": "code",
   "execution_count": 9,
   "metadata": {},
   "outputs": [
    {
     "name": "stdout",
     "output_type": "stream",
     "text": [
      "{'Correy', \"O'Tooley\", 'Li', 'Khan'}\n"
     ]
    }
   ],
   "source": [
    "#by turning the list of Candidates into a set I was able to get the unique identities without repeating any\n",
    "Unique = set(Candidate)\n",
    "print(Unique)"
   ]
  },
  {
   "cell_type": "code",
   "execution_count": 10,
   "metadata": {},
   "outputs": [],
   "source": [
    "#Created new variables to store each count total for easy computation of percentages and to display with print statements\n",
    "Correy_Votes = Candidate.count(\"Correy\")\n",
    "O_Votes = Candidate.count(\"O'Tooley\")\n",
    "Li_Votes = Candidate.count(\"Li\")\n",
    "Khan_Votes = Candidate.count(\"Khan\")"
   ]
  },
  {
   "cell_type": "code",
   "execution_count": 12,
   "metadata": {},
   "outputs": [],
   "source": [
    "#Creating a list with the new information to find the winner instead of a lengthy if statement\n",
    "New_List = [Correy_Votes,O_Votes,Li_Votes,Khan_Votes]\n",
    "# Names = \n",
    "New_Votes = [\"Correy\",\"O'Tooley\",\"Li\",\"Khan\"]\n",
    "Max = name[0]\n",
    "MaxIndex = New_Votes.index(Max)\n",
    "#print(New_List)\n",
    "#print(MaxIndex)"
   ]
  },
  {
   "cell_type": "code",
   "execution_count": 19,
   "metadata": {},
   "outputs": [
    {
     "name": "stdout",
     "output_type": "stream",
     "text": [
      "Election Results\n",
      "----------------------\n",
      "Total Votes: 3521001\n",
      "----------------------\n",
      "Khan: 63.00% (2218231) votes\n",
      "Correy:  20.00% (704200) votes\n",
      "Li: 14.00% (492940) votes\n",
      "O'Tooley: 3.00% (105630) votes\n",
      "----------------------\n",
      "Winner: Khan\n",
      "----------------------\n"
     ]
    }
   ],
   "source": [
    "#Creating new variables to represent the percentage of votes\n",
    "K = (Khan_Votes/Total_Votes *100)\n",
    "C = (Correy_Votes/Total_Votes *100)\n",
    "L = (Li_Votes/Total_Votes *100)\n",
    "O = (O_Votes/Total_Votes *100)\n",
    "\n",
    "print(\"Election Results\")\n",
    "print(\"----------------------\")\n",
    "print(f\"Total Votes: \" + str(Total_Votes))\n",
    "print(\"----------------------\")\n",
    "print(f\"Khan: \" + \"{:.2f}\".format(K) + \"% (\" + str(Khan_Votes) +\") votes\")\n",
    "print(f\"Correy:  \" + \"{:.2f}\".format(C) + \"% (\" + str(Correy_Votes) +\") votes\")\n",
    "print(f\"Li: \" + \"{:.2f}\".format(L) + \"% (\" + str(Li_Votes) +\") votes\")\n",
    "print(f\"O'Tooley: \" + \"{:.2f}\".format(O) + \"% (\" + str(O_Votes) +\") votes\")\n",
    "print(f\"----------------------\")\n",
    "print(f\"Winner: \" + New_Votes[MaxIndex]) #using the two lists I created and the index number of the list I was able to get the winner without using a lengthy if statement.\n",
    "print(\"----------------------\")"
   ]
  },
  {
   "cell_type": "code",
   "execution_count": 20,
   "metadata": {},
   "outputs": [],
   "source": [
    "results = []\n",
    "\n",
    "results.append(\"Election Results\\n----------------------------\")\n",
    "results.append(f\"Total Votes: \" + str(Total_Votes) + \"\\n----------------------------\")\n",
    "results.append(f\"Khan: \" + \"{:.2f}\".format(K) + \"% (\" + str(Khan_Votes) +\") votes\")\n",
    "results.append(f\"Correy:  \" + \"{:.2f}\".format(C) + \"% (\" + str(Correy_Votes) +\") votes\")\n",
    "results.append(f\"Li: \" + \"{:.2f}\".format(L) + \"% (\" + str(Li_Votes) +\") votes\")\n",
    "results.append(f\"O'Tooley: \" + \"{:.2f}\".format(O) + \"% (\" + str(O_Votes) +\") votes\" + \"\\n----------------------------\")\n",
    "results.append(f\"Winner: \" + New_Votes[MaxIndex] + \"\\n----------------------------\") #using the two lists I created and the index number of the list I was able to get the winner without using a lengthy if statement."
   ]
  },
  {
   "cell_type": "code",
   "execution_count": 17,
   "metadata": {},
   "outputs": [
    {
     "name": "stdout",
     "output_type": "stream",
     "text": [
      "Election Results\n",
      "----------------------------\n",
      "Total Votes: 3521001\n",
      "----------------------------\n",
      "Khan: 63.00% (2218231) votes\n",
      "Correy:  20.00% (704200) votes\n",
      "Li: 14.00% (492940) votes\n",
      "O'Tooley: 3.00% (105630) votes\n",
      "----------------------------\n",
      "Winner: Khan\n",
      "----------------------------\n"
     ]
    }
   ],
   "source": [
    "#prints the results after storing the results to a list\n",
    "filename = 'PyPoll_Results.txt'\n",
    "with open(filename, 'w') as file:\n",
    "    for result in results:\n",
    "        print(result)\n",
    "        file.write(result + '\\n')"
   ]
  }
 ],
 "metadata": {
  "kernelspec": {
   "display_name": "Python 3",
   "language": "python",
   "name": "python3"
  },
  "language_info": {
   "codemirror_mode": {
    "name": "ipython",
    "version": 3
   },
   "file_extension": ".py",
   "mimetype": "text/x-python",
   "name": "python",
   "nbconvert_exporter": "python",
   "pygments_lexer": "ipython3",
   "version": "3.7.6"
  }
 },
 "nbformat": 4,
 "nbformat_minor": 4
}
