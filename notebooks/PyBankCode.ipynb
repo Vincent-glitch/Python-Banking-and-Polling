{
 "cells": [
  {
   "cell_type": "code",
   "execution_count": 3,
   "metadata": {},
   "outputs": [],
   "source": [
    "# Dependencies and Setup\n",
    "import os\n",
    "import csv\n",
    "import math\n",
    "import statistics"
   ]
  },
  {
   "cell_type": "code",
   "execution_count": 6,
   "metadata": {},
   "outputs": [],
   "source": [
    "# File to Load \n",
    "csvpath = os.path.join(\"..\", \"data\",\"budget_data.csv\")\n",
    "# Declaring Variables\n",
    "maxincdate = \"\"\n",
    "maxdeccdate = \"\"\n",
    "nmonths = 0\n",
    "maxinc = 0\n",
    "maxdec = 0\n",
    "previous = 0.0\n",
    "avgchange = 0\n",
    "totalchange = 0"
   ]
  },
  {
   "cell_type": "code",
   "execution_count": 7,
   "metadata": {},
   "outputs": [],
   "source": [
    "with open(csvpath, newline='') as csvfile:\n",
    "    csvreader = csv.reader(csvfile, delimiter=',')\n",
    "    next(csvreader,None)\n",
    "#Start loops to read through csv and initialize variables\n",
    "    for row in csvreader:\n",
    "        current = float(row[1])\n",
    "        if nmonths == 0:\n",
    "            maxprofit = 0.0\n",
    "            maxloss = 0.0\n",
    "            maxlossdate = row[0]\n",
    "            maxprofitdate = row[0]\n",
    "#structure a way to determine the change against the previous date            \n",
    "        else:\n",
    "            change = current - previous\n",
    "            avgchange += change\n",
    "#create an if statement to append the variable with the largest profit and greatest loss            \n",
    "            if change > maxprofit:\n",
    "                maxprofit = change\n",
    "                maxprofitdate = row[0]\n",
    "            elif change < maxloss:\n",
    "                maxloss = change\n",
    "                maxlossdate = row[0]\n",
    "        previous = current\n",
    "        nmonths += 1\n",
    "        totalchange += float(row[1])\n",
    "avgchange = avgchange / (nmonths-1)\n",
    "#initialize a list to store results to\n",
    "results = []\n",
    "results.append(\"Financial Analysis\\n----------------------------\")\n",
    "results.append(f\"Total Months: {nmonths}\")\n",
    "results.append(f\"Total: ${round(totalchange)}\")\n",
    "results.append(f\"Average Change: ${round(avgchange,2)}\")\n",
    "results.append(f\"Greatest Increase in Profits: {maxprofitdate} (${round(maxprofit)})\")\n",
    "results.append(f\"Greatest Decrease in Profits: {maxlossdate} (${round(maxloss)})\")"
   ]
  },
  {
   "cell_type": "code",
   "execution_count": 8,
   "metadata": {},
   "outputs": [
    {
     "data": {
      "text/plain": [
       "['Financial Analysis\\n----------------------------',\n",
       " 'Total Months: 86',\n",
       " 'Total: $38382578',\n",
       " 'Average Change: $-2315.12',\n",
       " 'Greatest Increase in Profits: Feb-2012 ($1926159)',\n",
       " 'Greatest Decrease in Profits: Sep-2013 ($-2196167)']"
      ]
     },
     "execution_count": 8,
     "metadata": {},
     "output_type": "execute_result"
    }
   ],
   "source": [
    "results"
   ]
  },
  {
   "cell_type": "code",
   "execution_count": 11,
   "metadata": {},
   "outputs": [
    {
     "name": "stdout",
     "output_type": "stream",
     "text": [
      "Financial Analysis\n",
      "----------------------------\n",
      "Total Months: 86\n",
      "Total: $38382578\n",
      "Average Change: $-2315.12\n",
      "Greatest Increase in Profits: Feb-2012 ($1926159)\n",
      "Greatest Decrease in Profits: Sep-2013 ($-2196167)\n"
     ]
    }
   ],
   "source": [
    "#prints the results after storing the results to a list\n",
    "filename = '../output/PyBank_Results.txt'\n",
    "with open(filename, 'w') as file:\n",
    "    for result in results:\n",
    "        print(result)\n",
    "        file.write(result + '\\n')"
   ]
  },
  {
   "cell_type": "code",
   "execution_count": null,
   "metadata": {},
   "outputs": [],
   "source": []
  }
 ],
 "metadata": {
  "kernelspec": {
   "display_name": "Python 3",
   "language": "python",
   "name": "python3"
  },
  "language_info": {
   "codemirror_mode": {
    "name": "ipython",
    "version": 3
   },
   "file_extension": ".py",
   "mimetype": "text/x-python",
   "name": "python",
   "nbconvert_exporter": "python",
   "pygments_lexer": "ipython3",
   "version": "3.7.6"
  }
 },
 "nbformat": 4,
 "nbformat_minor": 4
}
