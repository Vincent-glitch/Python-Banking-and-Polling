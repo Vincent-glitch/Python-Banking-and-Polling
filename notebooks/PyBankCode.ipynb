{
 "cells": [
  {
   "cell_type": "code",
   "execution_count": 1,
   "metadata": {},
   "outputs": [],
   "source": [
    "import os\n",
    "import operator\n",
    "import csv\n",
    "import math\n",
    "import statistics"
   ]
  },
  {
   "cell_type": "code",
   "execution_count": 2,
   "metadata": {},
   "outputs": [],
   "source": [
    "csvpath = os.path.join(\"..\", \"data\",\"PyBank\", \"Resources\",\"budget_data.csv\")\n",
    "maxincdate = \"\"\n",
    "maxdeccdate = \"\"\n",
    "nmonths = 0\n",
    "maxinc = 0\n",
    "maxdec = 0\n",
    "previous = 0.0\n",
    "avgchange = 0\n",
    "totalchange = 0"
   ]
  },
  {
   "cell_type": "code",
   "execution_count": null,
   "metadata": {},
   "outputs": [],
   "source": [
    "#First attempt\n",
    "\n",
    "# months = []\n",
    "# revenue = []\n",
    "# monthly_change = []\n",
    "# total_change = []\n",
    "# pl  = 0\n",
    "# average_change  = 0\n",
    "# with open(csvpath) as FData:\n",
    "\n",
    "#     csvreader = csv.reader(FData)\n",
    "    \n",
    "    \n",
    "#     print(csvreader)\n",
    "      \n",
    "#     csv_header = next(csvreader)\n",
    "#     #print(csv_header)\n",
    "#     for col in csvreader: \n",
    "#         # append dates to match to greatest decrease and increase\n",
    "#         months.append(col[0])\n",
    "\n",
    "#         # column profit loss col[1]\n",
    "#         values = col[1]\n",
    "\n",
    "#         # add values in list of revenue\n",
    "#         revenue.append(values)\n",
    "\n",
    "#         # Turn values appeneded into revenue to integer for total sum\n",
    "#         # Note to self, make sure its out of the loop along with calculations after!\n",
    "#         total = sum((int(integral) for integral in revenue))\n",
    "#         #print(total)\n",
    "\n",
    "#         # p will serve as my row                   \n",
    "#         p = 0 \n",
    "#     #print(Months)\n",
    "#         for p in range(len(revenue) - 1): \n",
    "#             pl = int(revenue[p+1]) - int(revenue[p])\n",
    "#             monthly_change.append(pl)\n",
    "\n",
    "#             # average change round to 100th\n",
    "#             total_change = sum(monthly_change)\n",
    "#             average_change = round(total_change/(len(monthly_change)), 2)\n",
    "#             #print(total_change)\n",
    "#             #print(average_change)\n",
    "\n",
    "#             #Greatest Increase\n",
    "#             profit_increase = max(monthly_change)\n",
    "#             #print(profit_increase)\n",
    "#             q = monthly_change.index(profit_increase)\n",
    "#             month_increase = months[q+1]\n",
    "\n",
    "#             #Greatest Decrease\n",
    "#             profit_decrease = min(monthly_change)\n",
    "#             #print(profit_decrease)\n",
    "#             r = monthly_change.index(profit_decrease)\n",
    "#             month_decrease = months[r+1]\n",
    "#Attempt 1 - Basic calculations\n",
    "# MaxP = max(revenue, key = float)\n",
    "# MaxIndex = revenue.index(MaxP)\n",
    "# MaxL = min(revenue, key = float)\n",
    "# MinIndex = revenue.index(MaxL)\n",
    "# LenP = len(revenue)\n",
    "# TotalP = sum(revenue)\n",
    "# AvgP = TotalP / LenP         \n",
    "# print(Diff(Revenue,new_list))\n",
    "# print(\"Total Months: \" + str(LenP))\n",
    "# print(\"Total: $\" + str(TotalP))\n",
    "# print(\"Average Change: $\" + str(AvgP))\n",
    "# print(\"Greatest Increase in Profits: $\" + str(MaxP) + \" on \" + Months[MaxIndex])\n",
    "# print(\"Greatest Decrease in Profits: $\" + str(MaxL) + \" on \" + Months[MinIndex])"
   ]
  },
  {
   "cell_type": "code",
   "execution_count": null,
   "metadata": {},
   "outputs": [],
   "source": [
    "# print(Diff(Revenue,new_list))\n",
    "# print(\"Total Months: \" + str(LenP))\n",
    "# print(\"Total: $\" + str(TotalP))\n",
    "# print(\"Average Change: $\" + str(AvgP))\n",
    "# print(\"Greatest Increase in Profits: $\" + str(MaxP) + \" on \" + Months[MaxIndex])\n",
    "# print(\"Greatest Decrease in Profits: $\" + str(MaxL) + \" on \" + Months[MinIndex])"
   ]
  },
  {
   "cell_type": "code",
   "execution_count": 3,
   "metadata": {},
   "outputs": [],
   "source": [
    "with open(csvpath, newline='') as csvfile:\n",
    "    csvreader = csv.reader(csvfile, delimiter=',')\n",
    "    next(csvreader,None)\n",
    "#Start loops to read through csv and initialize variables\n",
    "    for row in csvreader:\n",
    "        current = float(row[1])\n",
    "        if nmonths == 0:\n",
    "            maxprofit = 0.0\n",
    "            maxloss = 0.0\n",
    "            maxlossdate = row[0]\n",
    "            maxprofitdate = row[0]\n",
    "#structure a way to determine the change against the previous date            \n",
    "        else:\n",
    "            change = current - previous\n",
    "            avgchange += change\n",
    "#create an if statement to append the variable with the largest profit and greatest loss            \n",
    "            if change > maxprofit:\n",
    "                maxprofit = change\n",
    "                maxprofitdate = row[0]\n",
    "            elif change < maxloss:\n",
    "                maxloss = change\n",
    "                maxlossdate = row[0]\n",
    "        previous = current\n",
    "        nmonths += 1\n",
    "        totalchange += float(row[1])\n",
    "avgchange = avgchange / (nmonths-1)\n",
    "#initialize a list to store results to\n",
    "results = []\n",
    "results.append(\"Financial Analysis\\n----------------------------\")\n",
    "results.append(f\"Total Months: {nmonths}\")\n",
    "results.append(f\"Total: ${round(totalchange)}\")\n",
    "results.append(f\"Average Change: ${round(avgchange,2)}\")\n",
    "results.append(f\"Greatest Increase in Profits: {maxprofitdate} (${round(maxprofit)})\")\n",
    "results.append(f\"Greatest Decrease in Profits: {maxlossdate} (${round(maxloss)})\")"
   ]
  },
  {
   "cell_type": "code",
   "execution_count": 4,
   "metadata": {},
   "outputs": [
    {
     "data": {
      "text/plain": [
       "['Financial Analysis\\n----------------------------',\n",
       " 'Total Months: 86',\n",
       " 'Total: $38382578',\n",
       " 'Average Change: $-2315.12',\n",
       " 'Greatest Increase in Profits: Feb-2012 ($1926159)',\n",
       " 'Greatest Decrease in Profits: Sep-2013 ($-2196167)']"
      ]
     },
     "execution_count": 4,
     "metadata": {},
     "output_type": "execute_result"
    }
   ],
   "source": [
    "results"
   ]
  },
  {
   "cell_type": "code",
   "execution_count": 4,
   "metadata": {},
   "outputs": [
    {
     "name": "stdout",
     "output_type": "stream",
     "text": [
      "Financial Analysis\n",
      "----------------------------\n",
      "Total Months: 86\n",
      "Total: $38382578\n",
      "Average Change: $-2315.12\n",
      "Greatest Increase in Profits: Feb-2012 ($1926159)\n",
      "Greatest Decrease in Profits: Sep-2013 ($-2196167)\n"
     ]
    }
   ],
   "source": [
    "#prints the results after storing the results to a list\n",
    "filename = 'PyBank_Results.txt'\n",
    "with open(filename, 'w') as file:\n",
    "    for result in results:\n",
    "        print(result)\n",
    "        file.write(result + '\\n')"
   ]
  },
  {
   "cell_type": "code",
   "execution_count": null,
   "metadata": {},
   "outputs": [],
   "source": []
  }
 ],
 "metadata": {
  "kernelspec": {
   "display_name": "Python 3",
   "language": "python",
   "name": "python3"
  },
  "language_info": {
   "codemirror_mode": {
    "name": "ipython",
    "version": 3
   },
   "file_extension": ".py",
   "mimetype": "text/x-python",
   "name": "python",
   "nbconvert_exporter": "python",
   "pygments_lexer": "ipython3",
   "version": "3.7.6"
  }
 },
 "nbformat": 4,
 "nbformat_minor": 4
}
